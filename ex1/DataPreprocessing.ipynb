{
  "nbformat": 4,
  "nbformat_minor": 5,
  "metadata": {
    "kernelspec": {
      "display_name": "Python 3",
      "language": "python",
      "name": "python3"
    },
    "language_info": {
      "codemirror_mode": {
        "name": "ipython",
        "version": 3
      },
      "file_extension": ".py",
      "mimetype": "text/x-python",
      "name": "python",
      "nbconvert_exporter": "python",
      "pygments_lexer": "ipython3",
      "version": "3.9.2"
    },
    "colab": {
      "name": "DataPreprocessing.ipynb",
      "provenance": []
    }
  },
  "cells": [
    {
      "cell_type": "code",
      "metadata": {
        "id": "growing-radar"
      },
      "source": [
        "# imports\n",
        "import pandas as pd\n",
        "import numpy as np\n",
        "from numpy import NaN\n",
        "from sklearn import preprocessing"
      ],
      "id": "growing-radar",
      "execution_count": 23,
      "outputs": []
    },
    {
      "cell_type": "code",
      "metadata": {
        "colab": {
          "base_uri": "https://localhost:8080/",
          "height": 204
        },
        "id": "nervous-composite",
        "outputId": "8f1eb3b0-0704-4ebe-fb09-f220f7ee97f9"
      },
      "source": [
        "# load data\n",
        "dataFrame = pd.read_csv('/content/sample_data/weather.csv')\n",
        "dataFrame.head()\n"
      ],
      "id": "nervous-composite",
      "execution_count": 37,
      "outputs": [
        {
          "output_type": "execute_result",
          "data": {
            "text/html": [
              "<div>\n",
              "<style scoped>\n",
              "    .dataframe tbody tr th:only-of-type {\n",
              "        vertical-align: middle;\n",
              "    }\n",
              "\n",
              "    .dataframe tbody tr th {\n",
              "        vertical-align: top;\n",
              "    }\n",
              "\n",
              "    .dataframe thead th {\n",
              "        text-align: right;\n",
              "    }\n",
              "</style>\n",
              "<table border=\"1\" class=\"dataframe\">\n",
              "  <thead>\n",
              "    <tr style=\"text-align: right;\">\n",
              "      <th></th>\n",
              "      <th>day</th>\n",
              "      <th>temperature</th>\n",
              "      <th>windspeed</th>\n",
              "      <th>event</th>\n",
              "    </tr>\n",
              "  </thead>\n",
              "  <tbody>\n",
              "    <tr>\n",
              "      <th>0</th>\n",
              "      <td>1/1/2017</td>\n",
              "      <td>32.0</td>\n",
              "      <td>6.0</td>\n",
              "      <td>Rain</td>\n",
              "    </tr>\n",
              "    <tr>\n",
              "      <th>1</th>\n",
              "      <td>1/4/2017</td>\n",
              "      <td>NaN</td>\n",
              "      <td>9.0</td>\n",
              "      <td>Sunny</td>\n",
              "    </tr>\n",
              "    <tr>\n",
              "      <th>2</th>\n",
              "      <td>1/5/2017</td>\n",
              "      <td>28.0</td>\n",
              "      <td>NaN</td>\n",
              "      <td>Snow</td>\n",
              "    </tr>\n",
              "    <tr>\n",
              "      <th>3</th>\n",
              "      <td>1/6/2017</td>\n",
              "      <td>NaN</td>\n",
              "      <td>7.0</td>\n",
              "      <td>NaN</td>\n",
              "    </tr>\n",
              "    <tr>\n",
              "      <th>4</th>\n",
              "      <td>1/7/2017</td>\n",
              "      <td>32.0</td>\n",
              "      <td>NaN</td>\n",
              "      <td>Rain</td>\n",
              "    </tr>\n",
              "  </tbody>\n",
              "</table>\n",
              "</div>"
            ],
            "text/plain": [
              "        day  temperature  windspeed  event\n",
              "0  1/1/2017         32.0        6.0   Rain\n",
              "1  1/4/2017          NaN        9.0  Sunny\n",
              "2  1/5/2017         28.0        NaN   Snow\n",
              "3  1/6/2017          NaN        7.0    NaN\n",
              "4  1/7/2017         32.0        NaN   Rain"
            ]
          },
          "metadata": {
            "tags": []
          },
          "execution_count": 37
        }
      ]
    },
    {
      "cell_type": "markdown",
      "metadata": {
        "id": "prepared-briefing"
      },
      "source": [
        "# Major Tasks in Data Pre-processing:\n",
        "1. **Data cleaning:** Fill in missing values, smooth noisy data, identify or remove outliers, and\n",
        "resolve inconsistencies.\n",
        "\n",
        "1. **Data integration:** Integration of multiple databases, data cubes, or files.\n",
        "\n",
        "1. **Data transformation:** Normalization and aggregation.\n",
        "\n",
        "1. **Data reduction:** Obtains reduced representation in volume but produces the\n",
        "similar analytical results.\n",
        "\n",
        "1. **Data discretization:** Part of data reduction but with particular importance, especially for\n",
        "numerical data.\n"
      ],
      "id": "prepared-briefing"
    },
    {
      "cell_type": "markdown",
      "metadata": {
        "id": "sexual-district"
      },
      "source": [
        "## 1. Data Cleaning\n",
        "### Ways to Cleanse Missing Data in Python\n",
        "To perform a Python data cleansing, you can:\n",
        "\n",
        "1. drop the missing values\n",
        "1. replace them\n",
        "1. replace each NaN with a scalar value\n",
        "1. fill forward or backward."
      ],
      "id": "sexual-district"
    },
    {
      "cell_type": "code",
      "metadata": {
        "colab": {
          "base_uri": "https://localhost:8080/"
        },
        "id": "specialized-framing",
        "outputId": "ae3c22db-1b7a-4044-aecc-a6e4bdb20693"
      },
      "source": [
        "# Drop the missing values\n",
        "print(dataFrame.dropna())"
      ],
      "id": "specialized-framing",
      "execution_count": 5,
      "outputs": [
        {
          "output_type": "stream",
          "text": [
            "         day  temperature  windspeed   event\n",
            "0   1/1/2017         32.0        6.0    Rain\n",
            "7  1/10/2017         34.0        8.0  Cloudy\n",
            "8  1/11/2017         40.0       12.0   Sunny\n"
          ],
          "name": "stdout"
        }
      ]
    },
    {
      "cell_type": "markdown",
      "metadata": {
        "id": "presidential-realtor"
      },
      "source": [
        "### Output:\n",
        "Here we can see that all the NaN value data rows are droped.\n"
      ],
      "id": "presidential-realtor"
    },
    {
      "cell_type": "code",
      "metadata": {
        "colab": {
          "base_uri": "https://localhost:8080/"
        },
        "id": "stable-entrepreneur",
        "outputId": "35cc76ba-02a1-4da5-b66b-76260aba29c3"
      },
      "source": [
        "# replace NaN\n",
        "print(dataFrame.replace({NaN:0}))"
      ],
      "id": "stable-entrepreneur",
      "execution_count": 6,
      "outputs": [
        {
          "output_type": "stream",
          "text": [
            "         day  temperature  windspeed   event\n",
            "0   1/1/2017         32.0        6.0    Rain\n",
            "1   1/4/2017          0.0        9.0   Sunny\n",
            "2   1/5/2017         28.0        0.0    Snow\n",
            "3   1/6/2017          0.0        7.0       0\n",
            "4   1/7/2017         32.0        0.0    Rain\n",
            "5   1/8/2017          0.0        0.0   Sunny\n",
            "6   1/9/2017          0.0        0.0       0\n",
            "7  1/10/2017         34.0        8.0  Cloudy\n",
            "8  1/11/2017         40.0       12.0   Sunny\n"
          ],
          "name": "stdout"
        }
      ]
    },
    {
      "cell_type": "code",
      "metadata": {
        "colab": {
          "base_uri": "https://localhost:8080/"
        },
        "id": "equal-procurement",
        "outputId": "dacfcbb0-3188-49a0-b469-48ce01355411"
      },
      "source": [
        "# replace with a scalar value\n",
        "print(dataFrame.fillna(8))"
      ],
      "id": "equal-procurement",
      "execution_count": 7,
      "outputs": [
        {
          "output_type": "stream",
          "text": [
            "         day  temperature  windspeed   event\n",
            "0   1/1/2017         32.0        6.0    Rain\n",
            "1   1/4/2017          8.0        9.0   Sunny\n",
            "2   1/5/2017         28.0        8.0    Snow\n",
            "3   1/6/2017          8.0        7.0       8\n",
            "4   1/7/2017         32.0        8.0    Rain\n",
            "5   1/8/2017          8.0        8.0   Sunny\n",
            "6   1/9/2017          8.0        8.0       8\n",
            "7  1/10/2017         34.0        8.0  Cloudy\n",
            "8  1/11/2017         40.0       12.0   Sunny\n"
          ],
          "name": "stdout"
        }
      ]
    },
    {
      "cell_type": "code",
      "metadata": {
        "colab": {
          "base_uri": "https://localhost:8080/"
        },
        "id": "looking-study",
        "outputId": "097d4aac-40b9-4c69-c198-5df1f3969023"
      },
      "source": [
        "# filling forward\n",
        "print(dataFrame.fillna(method='pad'))\n"
      ],
      "id": "looking-study",
      "execution_count": 8,
      "outputs": [
        {
          "output_type": "stream",
          "text": [
            "         day  temperature  windspeed   event\n",
            "0   1/1/2017         32.0        6.0    Rain\n",
            "1   1/4/2017         32.0        9.0   Sunny\n",
            "2   1/5/2017         28.0        9.0    Snow\n",
            "3   1/6/2017         28.0        7.0    Snow\n",
            "4   1/7/2017         32.0        7.0    Rain\n",
            "5   1/8/2017         32.0        7.0   Sunny\n",
            "6   1/9/2017         32.0        7.0   Sunny\n",
            "7  1/10/2017         34.0        8.0  Cloudy\n",
            "8  1/11/2017         40.0       12.0   Sunny\n"
          ],
          "name": "stdout"
        }
      ]
    },
    {
      "cell_type": "code",
      "metadata": {
        "colab": {
          "base_uri": "https://localhost:8080/"
        },
        "id": "bNZgTSOneQwg",
        "outputId": "0b211ed1-a43d-4867-d5ac-c669d633d9e7"
      },
      "source": [
        "# filling backward\n",
        "print(dataFrame.fillna(method='bfill'))\n"
      ],
      "id": "bNZgTSOneQwg",
      "execution_count": 10,
      "outputs": [
        {
          "output_type": "stream",
          "text": [
            "         day  temperature  windspeed   event\n",
            "0   1/1/2017         32.0        6.0    Rain\n",
            "1   1/4/2017         28.0        9.0   Sunny\n",
            "2   1/5/2017         28.0        7.0    Snow\n",
            "3   1/6/2017         32.0        7.0    Rain\n",
            "4   1/7/2017         32.0        8.0    Rain\n",
            "5   1/8/2017         34.0        8.0   Sunny\n",
            "6   1/9/2017         34.0        8.0  Cloudy\n",
            "7  1/10/2017         34.0        8.0  Cloudy\n",
            "8  1/11/2017         40.0       12.0   Sunny\n"
          ],
          "name": "stdout"
        }
      ]
    },
    {
      "cell_type": "markdown",
      "metadata": {
        "id": "47qb2Hl5e_hu"
      },
      "source": [
        "# 2) Data Intigration\n",
        "we'll merge the details of students from two datasets, namely student.csv and marks.csv.\n",
        "The student dataset contains columns such as Age, Gender, Grade, and Employed."
      ],
      "id": "47qb2Hl5e_hu"
    },
    {
      "cell_type": "code",
      "metadata": {
        "colab": {
          "base_uri": "https://localhost:8080/"
        },
        "id": "yVeRuz60ewds",
        "outputId": "1ebd5894-3cc8-4371-c889-62060d865356"
      },
      "source": [
        "dataFrame1 =  pd.read_csv('/content/sample_data/student.csv')\n",
        "dataFrame2 =  pd.read_csv('/content/sample_data/mark.csv')\n",
        "print(dataFrame2)"
      ],
      "id": "yVeRuz60ewds",
      "execution_count": 30,
      "outputs": [
        {
          "output_type": "stream",
          "text": [
            "     Student_id  Mark     City\n",
            "0             1    95  Chennai\n",
            "1             2    70    Delhi\n",
            "2             3    98   Mumbai\n",
            "3             4    75     Pune\n",
            "4             5    89    Kochi\n",
            "..          ...   ...      ...\n",
            "227         228    99     Pune\n",
            "228         229    70  Chennai\n",
            "229         230    55    Delhi\n",
            "230         231    97   Mumbai\n",
            "231         232    59     Pune\n",
            "\n",
            "[232 rows x 3 columns]\n"
          ],
          "name": "stdout"
        }
      ]
    },
    {
      "cell_type": "code",
      "metadata": {
        "id": "aldjSOtuflRj"
      },
      "source": [
        "newDataFrame = pd.merge(dataFrame1, dataFrame2, on='Student_id')"
      ],
      "id": "aldjSOtuflRj",
      "execution_count": 31,
      "outputs": []
    },
    {
      "cell_type": "code",
      "metadata": {
        "colab": {
          "base_uri": "https://localhost:8080/"
        },
        "id": "Lx5U8fJ_gEkF",
        "outputId": "f3d15104-254a-4877-c99f-67e2f3c96861"
      },
      "source": [
        "print(newDataFrame)"
      ],
      "id": "Lx5U8fJ_gEkF",
      "execution_count": 32,
      "outputs": [
        {
          "output_type": "stream",
          "text": [
            "     Student_id  Age  Gender      Grade Employed  Mark     City\n",
            "0             1   19    Male  1st Class      yes    95  Chennai\n",
            "1             2   20  Female  2nd Class       no    70    Delhi\n",
            "2             3   18    Male  1st Class       no    98   Mumbai\n",
            "3             4   21  Female  2nd Class       no    75     Pune\n",
            "4             5   19    Male  1st Class       no    89    Kochi\n",
            "..          ...  ...     ...        ...      ...   ...      ...\n",
            "227         228   21  Female  1st Class       no    99     Pune\n",
            "228         229   20    Male  2nd Class       no    70  Chennai\n",
            "229         230   20    Male  3rd Class      yes    55    Delhi\n",
            "230         231   19  Female  1st Class      yes    97   Mumbai\n",
            "231         232   20    Male  3rd Class      yes    59     Pune\n",
            "\n",
            "[232 rows x 7 columns]\n"
          ],
          "name": "stdout"
        }
      ]
    },
    {
      "cell_type": "code",
      "metadata": {
        "colab": {
          "base_uri": "https://localhost:8080/"
        },
        "id": "B8zua05tguoA",
        "outputId": "f779d9e1-234d-4b08-952b-f6a7d5cb3726"
      },
      "source": [
        "# Normalization\n",
        "a = np.random.random((1,4))\n",
        "a *= 20\n",
        "print('Data',a)\n",
        "normal = preprocessing.normalize(a)\n",
        "print('normalized', normal) "
      ],
      "id": "B8zua05tguoA",
      "execution_count": 33,
      "outputs": [
        {
          "output_type": "stream",
          "text": [
            "Data [[ 2.47807062 19.2115389   2.67422577 15.23536842]]\n",
            "normalized [[0.09996675 0.77500417 0.10787976 0.61460324]]\n"
          ],
          "name": "stdout"
        }
      ]
    },
    {
      "cell_type": "code",
      "metadata": {
        "colab": {
          "base_uri": "https://localhost:8080/"
        },
        "id": "5GCeDp4ajGcN",
        "outputId": "ed8a1593-1ac2-4f7b-bb9a-5fe92f5e93b0"
      },
      "source": [
        "# Descretization\n",
        "\n",
        "print(dataFrame1)\n"
      ],
      "id": "5GCeDp4ajGcN",
      "execution_count": 35,
      "outputs": [
        {
          "output_type": "stream",
          "text": [
            "     Student_id  Age  Gender      Grade Employed\n",
            "0             1   19    Male  1st Class      yes\n",
            "1             2   20  Female  2nd Class       no\n",
            "2             3   18    Male  1st Class       no\n",
            "3             4   21  Female  2nd Class       no\n",
            "4             5   19    Male  1st Class       no\n",
            "..          ...  ...     ...        ...      ...\n",
            "227         228   21  Female  1st Class       no\n",
            "228         229   20    Male  2nd Class       no\n",
            "229         230   20    Male  3rd Class      yes\n",
            "230         231   19  Female  1st Class      yes\n",
            "231         232   20    Male  3rd Class      yes\n",
            "\n",
            "[232 rows x 5 columns]\n"
          ],
          "name": "stdout"
        }
      ]
    },
    {
      "cell_type": "code",
      "metadata": {
        "colab": {
          "base_uri": "https://localhost:8080/",
          "height": 359
        },
        "id": "E_9BFWynjfpu",
        "outputId": "0cbd11d6-7bd3-4dc5-cf3d-2a2428c8a59f"
      },
      "source": [
        "dataFrame1['bucket']=pd.cut(dataFrame1['Age'],3,labels=['young','old','middleage'])\n",
        "dataFrame1.head(10)\n"
      ],
      "id": "E_9BFWynjfpu",
      "execution_count": 36,
      "outputs": [
        {
          "output_type": "execute_result",
          "data": {
            "text/html": [
              "<div>\n",
              "<style scoped>\n",
              "    .dataframe tbody tr th:only-of-type {\n",
              "        vertical-align: middle;\n",
              "    }\n",
              "\n",
              "    .dataframe tbody tr th {\n",
              "        vertical-align: top;\n",
              "    }\n",
              "\n",
              "    .dataframe thead th {\n",
              "        text-align: right;\n",
              "    }\n",
              "</style>\n",
              "<table border=\"1\" class=\"dataframe\">\n",
              "  <thead>\n",
              "    <tr style=\"text-align: right;\">\n",
              "      <th></th>\n",
              "      <th>Student_id</th>\n",
              "      <th>Age</th>\n",
              "      <th>Gender</th>\n",
              "      <th>Grade</th>\n",
              "      <th>Employed</th>\n",
              "      <th>bucket</th>\n",
              "    </tr>\n",
              "  </thead>\n",
              "  <tbody>\n",
              "    <tr>\n",
              "      <th>0</th>\n",
              "      <td>1</td>\n",
              "      <td>19</td>\n",
              "      <td>Male</td>\n",
              "      <td>1st Class</td>\n",
              "      <td>yes</td>\n",
              "      <td>young</td>\n",
              "    </tr>\n",
              "    <tr>\n",
              "      <th>1</th>\n",
              "      <td>2</td>\n",
              "      <td>20</td>\n",
              "      <td>Female</td>\n",
              "      <td>2nd Class</td>\n",
              "      <td>no</td>\n",
              "      <td>old</td>\n",
              "    </tr>\n",
              "    <tr>\n",
              "      <th>2</th>\n",
              "      <td>3</td>\n",
              "      <td>18</td>\n",
              "      <td>Male</td>\n",
              "      <td>1st Class</td>\n",
              "      <td>no</td>\n",
              "      <td>young</td>\n",
              "    </tr>\n",
              "    <tr>\n",
              "      <th>3</th>\n",
              "      <td>4</td>\n",
              "      <td>21</td>\n",
              "      <td>Female</td>\n",
              "      <td>2nd Class</td>\n",
              "      <td>no</td>\n",
              "      <td>middleage</td>\n",
              "    </tr>\n",
              "    <tr>\n",
              "      <th>4</th>\n",
              "      <td>5</td>\n",
              "      <td>19</td>\n",
              "      <td>Male</td>\n",
              "      <td>1st Class</td>\n",
              "      <td>no</td>\n",
              "      <td>young</td>\n",
              "    </tr>\n",
              "    <tr>\n",
              "      <th>5</th>\n",
              "      <td>6</td>\n",
              "      <td>20</td>\n",
              "      <td>Male</td>\n",
              "      <td>2nd Class</td>\n",
              "      <td>yes</td>\n",
              "      <td>old</td>\n",
              "    </tr>\n",
              "    <tr>\n",
              "      <th>6</th>\n",
              "      <td>7</td>\n",
              "      <td>19</td>\n",
              "      <td>Female</td>\n",
              "      <td>3rd Class</td>\n",
              "      <td>yes</td>\n",
              "      <td>young</td>\n",
              "    </tr>\n",
              "    <tr>\n",
              "      <th>7</th>\n",
              "      <td>8</td>\n",
              "      <td>21</td>\n",
              "      <td>Male</td>\n",
              "      <td>3rd Class</td>\n",
              "      <td>yes</td>\n",
              "      <td>middleage</td>\n",
              "    </tr>\n",
              "    <tr>\n",
              "      <th>8</th>\n",
              "      <td>9</td>\n",
              "      <td>22</td>\n",
              "      <td>Female</td>\n",
              "      <td>3rd Class</td>\n",
              "      <td>yes</td>\n",
              "      <td>middleage</td>\n",
              "    </tr>\n",
              "    <tr>\n",
              "      <th>9</th>\n",
              "      <td>10</td>\n",
              "      <td>21</td>\n",
              "      <td>Male</td>\n",
              "      <td>1st Class</td>\n",
              "      <td>no</td>\n",
              "      <td>middleage</td>\n",
              "    </tr>\n",
              "  </tbody>\n",
              "</table>\n",
              "</div>"
            ],
            "text/plain": [
              "   Student_id  Age  Gender      Grade Employed     bucket\n",
              "0           1   19    Male  1st Class      yes      young\n",
              "1           2   20  Female  2nd Class       no        old\n",
              "2           3   18    Male  1st Class       no      young\n",
              "3           4   21  Female  2nd Class       no  middleage\n",
              "4           5   19    Male  1st Class       no      young\n",
              "5           6   20    Male  2nd Class      yes        old\n",
              "6           7   19  Female  3rd Class      yes      young\n",
              "7           8   21    Male  3rd Class      yes  middleage\n",
              "8           9   22  Female  3rd Class      yes  middleage\n",
              "9          10   21    Male  1st Class       no  middleage"
            ]
          },
          "metadata": {
            "tags": []
          },
          "execution_count": 36
        }
      ]
    },
    {
      "cell_type": "code",
      "metadata": {
        "id": "IxTFRRt0jzNb"
      },
      "source": [
        ""
      ],
      "id": "IxTFRRt0jzNb",
      "execution_count": null,
      "outputs": []
    }
  ]
}